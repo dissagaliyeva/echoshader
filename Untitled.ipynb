{
 "cells": [
  {
   "cell_type": "code",
   "execution_count": 14,
   "id": "8ffcdbef",
   "metadata": {},
   "outputs": [
    {
     "name": "stdout",
     "output_type": "stream",
     "text": [
      "ERROR! Session/line number was not unique in database. History logging moved to new session 212\n"
     ]
    }
   ],
   "source": [
    "# DON'T CHANGE THE IMPORTS ORDER\n",
    "import glob\n",
    "import xarray as xr\n",
    "import geopandas as gpd\n",
    "\n",
    "import panel as pn\n",
    "pn.extension('plotly')\n",
    "\n",
    "import hvplot.pandas  # noqa\n",
    "import hvplot.xarray\n",
    "\n",
    "from utils import utils \n",
    "from datetime import datetime, date\n",
    "import param\n",
    "\n",
    "import echopype as ep\n",
    "import plotly.graph_objs as go\n",
    "\n",
    "import warnings\n",
    "warnings.simplefilter(\"ignore\", category=DeprecationWarning)"
   ]
  },
  {
   "cell_type": "code",
   "execution_count": 2,
   "id": "12787c71",
   "metadata": {},
   "outputs": [],
   "source": [
    "def run(*events):\n",
    "    print(*events)"
   ]
  },
  {
   "cell_type": "code",
   "execution_count": 5,
   "id": "8ce0fe78",
   "metadata": {},
   "outputs": [
    {
     "data": {
      "text/html": [
       "Event(what='value', name='clicks', obj=Button(button_type='success', clicks=1, name='Run analysis'), cls=Button(button_type='success', clicks=1, name='Run analysis'), old=0, new=1, type='set')</br>\n",
       "Event(what='value', name='clicks', obj=Button(button_type='success', clicks=2, name='Run analysis'), cls=Button(button_type='success', clicks=2, name='Run analysis'), old=1, new=2, type='set')</br>"
      ]
     },
     "metadata": {},
     "output_type": "display_data"
    },
    {
     "data": {
      "application/vnd.holoviews_exec.v0+json": "",
      "text/html": [
       "<div id='1007'>\n",
       "\n",
       "\n",
       "\n",
       "\n",
       "\n",
       "  <div class=\"bk-root\" id=\"fa91c01e-a9b6-4ef8-8f7d-d33a4668801e\" data-root-id=\"1007\"></div>\n",
       "</div>\n",
       "<script type=\"application/javascript\">(function(root) {\n",
       "  function embed_document(root) {\n",
       "    var docs_json = {\"46cc54ac-f77f-4268-bf54-a73b35a14797\":{\"defs\":[{\"extends\":null,\"module\":null,\"name\":\"ReactiveHTML1\",\"overrides\":[],\"properties\":[]},{\"extends\":null,\"module\":null,\"name\":\"FlexBox1\",\"overrides\":[],\"properties\":[{\"default\":\"flex-start\",\"kind\":null,\"name\":\"align_content\"},{\"default\":\"flex-start\",\"kind\":null,\"name\":\"align_items\"},{\"default\":\"row\",\"kind\":null,\"name\":\"flex_direction\"},{\"default\":\"wrap\",\"kind\":null,\"name\":\"flex_wrap\"},{\"default\":\"flex-start\",\"kind\":null,\"name\":\"justify_content\"}]},{\"extends\":null,\"module\":null,\"name\":\"TemplateActions1\",\"overrides\":[],\"properties\":[{\"default\":0,\"kind\":null,\"name\":\"open_modal\"},{\"default\":0,\"kind\":null,\"name\":\"close_modal\"}]},{\"extends\":null,\"module\":null,\"name\":\"MaterialTemplateActions1\",\"overrides\":[],\"properties\":[{\"default\":0,\"kind\":null,\"name\":\"open_modal\"},{\"default\":0,\"kind\":null,\"name\":\"close_modal\"}]}],\"roots\":{\"references\":[{\"attributes\":{\"margin\":[5,5,5,5],\"name\":\"Str01562\",\"text\":\"&lt;pre&gt; &lt;/pre&gt;\"},\"id\":\"1010\",\"type\":\"panel.models.markup.HTML\"},{\"attributes\":{\"client_comm_id\":\"d4d1fbe7cb064b818fb33eda640d34bb\",\"comm_id\":\"ff50a1896d9b43838221747c5639dad6\",\"plot_id\":\"1007\"},\"id\":\"1011\",\"type\":\"panel.models.comm_manager.CommManager\"},{\"attributes\":{\"margin\":[5,10,5,10],\"title\":\"Date Picker\"},\"id\":\"1008\",\"type\":\"DatePicker\"},{\"attributes\":{\"button_type\":\"success\",\"icon\":null,\"label\":\"Run analysis\",\"margin\":[5,10,5,10],\"subscribed_events\":[\"button_click\"]},\"id\":\"1009\",\"type\":\"Button\"},{\"attributes\":{\"children\":[{\"id\":\"1008\"},{\"id\":\"1009\"},{\"id\":\"1010\"}],\"margin\":[0,0,0,0],\"name\":\"Column01564\"},\"id\":\"1007\",\"type\":\"Column\"}],\"root_ids\":[\"1007\",\"1011\"]},\"title\":\"Bokeh Application\",\"version\":\"2.4.2\"}};\n",
       "    var render_items = [{\"docid\":\"46cc54ac-f77f-4268-bf54-a73b35a14797\",\"root_ids\":[\"1007\"],\"roots\":{\"1007\":\"fa91c01e-a9b6-4ef8-8f7d-d33a4668801e\"}}];\n",
       "    root.Bokeh.embed.embed_items_notebook(docs_json, render_items);\n",
       "  }\n",
       "  if (root.Bokeh !== undefined && root.Bokeh.Panel !== undefined && ( root['Plotly'] !== undefined)) {\n",
       "    embed_document(root);\n",
       "  } else {\n",
       "    var attempts = 0;\n",
       "    var timer = setInterval(function(root) {\n",
       "      if (root.Bokeh !== undefined && root.Bokeh.Panel !== undefined && (root['Plotly'] !== undefined)) {\n",
       "        clearInterval(timer);\n",
       "        embed_document(root);\n",
       "      } else if (document.readyState == \"complete\") {\n",
       "        attempts++;\n",
       "        if (attempts > 200) {\n",
       "          clearInterval(timer);\n",
       "          console.log(\"Bokeh: ERROR: Unable to run BokehJS code because BokehJS library is missing\");\n",
       "        }\n",
       "      }\n",
       "    }, 25, root)\n",
       "  }\n",
       "})(window);</script>"
      ],
      "text/plain": [
       "Column\n",
       "    [0] DatePicker(name='Date Picker')\n",
       "    [1] Button(button_type='success', name='Run analysis')\n",
       "    [2] Str(None)"
      ]
     },
     "execution_count": 5,
     "metadata": {
      "application/vnd.holoviews_exec.v0+json": {
       "id": "1007"
      }
     },
     "output_type": "execute_result"
    }
   ],
   "source": [
    "date = pn.widgets.DatePicker(name='Date Picker')\n",
    "\n",
    "button = pn.widgets.Button(name='Run analysis', button_type='success')\n",
    "\n",
    "app = pn.Column(\n",
    "    date, \n",
    "    button,\n",
    "    button.on_click(run)\n",
    ")\n",
    "\n",
    "app"
   ]
  },
  {
   "cell_type": "code",
   "execution_count": null,
   "id": "d962c231",
   "metadata": {},
   "outputs": [],
   "source": [
    "class Analysis(param.Parameterized):\n",
    "    action = param.Action(lambda x: x.param.trigger('action'), label='Run Analysis')\n",
    "    "
   ]
  },
  {
   "cell_type": "code",
   "execution_count": 6,
   "id": "17a082ce",
   "metadata": {},
   "outputs": [
    {
     "data": {},
     "metadata": {},
     "output_type": "display_data"
    },
    {
     "data": {
      "application/vnd.holoviews_exec.v0+json": "",
      "text/html": [
       "<div id='1012'>\n",
       "\n",
       "\n",
       "\n",
       "\n",
       "\n",
       "  <div class=\"bk-root\" id=\"f5d9af9a-dd3d-4b3c-93b1-91ab482f7c80\" data-root-id=\"1012\"></div>\n",
       "</div>\n",
       "<script type=\"application/javascript\">(function(root) {\n",
       "  function embed_document(root) {\n",
       "    var docs_json = {\"205d3354-892e-4b5f-8dc9-d73b93bbd680\":{\"defs\":[{\"extends\":null,\"module\":null,\"name\":\"ReactiveHTML1\",\"overrides\":[],\"properties\":[]},{\"extends\":null,\"module\":null,\"name\":\"FlexBox1\",\"overrides\":[],\"properties\":[{\"default\":\"flex-start\",\"kind\":null,\"name\":\"align_content\"},{\"default\":\"flex-start\",\"kind\":null,\"name\":\"align_items\"},{\"default\":\"row\",\"kind\":null,\"name\":\"flex_direction\"},{\"default\":\"wrap\",\"kind\":null,\"name\":\"flex_wrap\"},{\"default\":\"flex-start\",\"kind\":null,\"name\":\"justify_content\"}]},{\"extends\":null,\"module\":null,\"name\":\"TemplateActions1\",\"overrides\":[],\"properties\":[{\"default\":0,\"kind\":null,\"name\":\"open_modal\"},{\"default\":0,\"kind\":null,\"name\":\"close_modal\"}]},{\"extends\":null,\"module\":null,\"name\":\"MaterialTemplateActions1\",\"overrides\":[],\"properties\":[{\"default\":0,\"kind\":null,\"name\":\"open_modal\"},{\"default\":0,\"kind\":null,\"name\":\"close_modal\"}]}],\"roots\":{\"references\":[{\"attributes\":{\"children\":[{\"id\":\"1014\"},{\"id\":\"1019\"}],\"margin\":[0,0,0,0],\"max_width\":600,\"name\":\"Row01582\"},\"id\":\"1013\",\"type\":\"Row\"},{\"attributes\":{\"margin\":[5,5,5,5],\"name\":\"Str01579\",\"text\":\"&lt;pre&gt;1&lt;/pre&gt;\"},\"id\":\"1020\",\"type\":\"panel.models.markup.HTML\"},{\"attributes\":{\"client_comm_id\":\"cde82936fc6e4ef4a259a9810badf838\",\"comm_id\":\"7c0fd39f1ea94f8484bd0783f75905f0\",\"plot_id\":\"1012\"},\"id\":\"1021\",\"type\":\"panel.models.comm_manager.CommManager\"},{\"attributes\":{\"children\":[{\"id\":\"1015\"},{\"id\":\"1018\"}],\"margin\":[0,0,0,0],\"name\":\"Column01576\"},\"id\":\"1014\",\"type\":\"Column\"},{\"attributes\":{\"button_type\":\"primary\",\"icon\":null,\"label\":\"Click here!\",\"margin\":[5,10,5,10],\"subscribed_events\":[\"button_click\"]},\"id\":\"1016\",\"type\":\"Button\"},{\"attributes\":{\"disabled\":true,\"margin\":[5,10,5,10],\"mode\":\"int\",\"placeholder\":\"0\",\"title\":\"Number\",\"value\":1,\"value_throttled\":0},\"id\":\"1017\",\"type\":\"Spinner\"},{\"attributes\":{\"children\":[{\"id\":\"1020\"}],\"margin\":[0,0,0,0],\"min_width\":300,\"name\":\"Row01581\",\"width\":300},\"id\":\"1019\",\"type\":\"Row\"},{\"attributes\":{\"css_classes\":[\"markdown\"],\"margin\":[5,5,5,5],\"name\":\"Markdown01574\",\"text\":\"&lt;p&gt;&lt;strong&gt;Click the button&lt;/strong&gt; to trigger an update in the output.&lt;/p&gt;\"},\"id\":\"1018\",\"type\":\"panel.models.markup.HTML\"},{\"attributes\":{\"children\":[{\"id\":\"1016\"},{\"id\":\"1017\"}],\"margin\":[0,0,0,0],\"min_width\":300,\"name\":\"ActionExample\",\"width\":300},\"id\":\"1015\",\"type\":\"Column\"},{\"attributes\":{\"children\":[{\"id\":\"1013\"}],\"margin\":[0,0,0,0],\"name\":\"Column01583\"},\"id\":\"1012\",\"type\":\"Column\"}],\"root_ids\":[\"1012\",\"1021\"]},\"title\":\"Bokeh Application\",\"version\":\"2.4.2\"}};\n",
       "    var render_items = [{\"docid\":\"205d3354-892e-4b5f-8dc9-d73b93bbd680\",\"root_ids\":[\"1012\"],\"roots\":{\"1012\":\"f5d9af9a-dd3d-4b3c-93b1-91ab482f7c80\"}}];\n",
       "    root.Bokeh.embed.embed_items_notebook(docs_json, render_items);\n",
       "  }\n",
       "  if (root.Bokeh !== undefined && root.Bokeh.Panel !== undefined && ( root['Plotly'] !== undefined)) {\n",
       "    embed_document(root);\n",
       "  } else {\n",
       "    var attempts = 0;\n",
       "    var timer = setInterval(function(root) {\n",
       "      if (root.Bokeh !== undefined && root.Bokeh.Panel !== undefined && (root['Plotly'] !== undefined)) {\n",
       "        clearInterval(timer);\n",
       "        embed_document(root);\n",
       "      } else if (document.readyState == \"complete\") {\n",
       "        attempts++;\n",
       "        if (attempts > 200) {\n",
       "          clearInterval(timer);\n",
       "          console.log(\"Bokeh: ERROR: Unable to run BokehJS code because BokehJS library is missing\");\n",
       "        }\n",
       "      }\n",
       "    }, 25, root)\n",
       "  }\n",
       "})(window);</script>"
      ],
      "text/plain": [
       "Column\n",
       "    [0] Row(max_width=600)\n",
       "        [0] Column\n",
       "            [0] Column(name='ActionExample', width=300)\n",
       "                [0] Button(button_type='primary', name='Click here!')\n",
       "                [1] IntInput(disabled=True, name='Number', value=1)\n",
       "            [1] Markdown(str)\n",
       "        [1] ParamMethod(method, width=300)"
      ]
     },
     "execution_count": 6,
     "metadata": {
      "application/vnd.holoviews_exec.v0+json": {
       "id": "1012"
      }
     },
     "output_type": "execute_result"
    }
   ],
   "source": [
    "class ActionExample(param.Parameterized):\n",
    "    \"\"\"\n",
    "    Demonstrates how to use param.Action to trigger an update.\n",
    "    \"\"\"\n",
    "\n",
    "    action = param.Action(lambda x: x.param.trigger('action'), label='Click here!')\n",
    "    \n",
    "    number = param.Integer(default=0)\n",
    "        \n",
    "    @param.depends('action')\n",
    "    def get_number(self):\n",
    "        self.number += 1\n",
    "        return self.number\n",
    "    \n",
    "action_example = ActionExample()\n",
    "component = pn.Column(\n",
    "    pn.Row(\n",
    "        pn.Column(pn.panel(action_example, show_name=False, margin=0, widgets={\"action\": {\"button_type\": \"primary\"}, \"number\": {\"disabled\": True}}),\n",
    "            '**Click the button** to trigger an update in the output.'),\n",
    "        pn.panel(action_example.get_number, width=300), max_width=600)\n",
    ")\n",
    "component"
   ]
  },
  {
   "cell_type": "code",
   "execution_count": null,
   "id": "22c66b73",
   "metadata": {},
   "outputs": [],
   "source": []
  },
  {
   "cell_type": "code",
   "execution_count": null,
   "id": "8904c420",
   "metadata": {},
   "outputs": [],
   "source": []
  },
  {
   "cell_type": "code",
   "execution_count": 7,
   "id": "a1c89a8e",
   "metadata": {},
   "outputs": [
    {
     "data": {},
     "metadata": {},
     "output_type": "display_data"
    },
    {
     "data": {
      "application/vnd.holoviews_exec.v0+json": "",
      "text/html": [
       "<div id='1022'>\n",
       "\n",
       "\n",
       "\n",
       "\n",
       "\n",
       "  <div class=\"bk-root\" id=\"f2dacd65-e32f-42e9-a254-62db04d91039\" data-root-id=\"1022\"></div>\n",
       "</div>\n",
       "<script type=\"application/javascript\">(function(root) {\n",
       "  function embed_document(root) {\n",
       "    var docs_json = {\"9156a553-7889-4b1a-812c-db9375b93111\":{\"defs\":[{\"extends\":null,\"module\":null,\"name\":\"ReactiveHTML1\",\"overrides\":[],\"properties\":[]},{\"extends\":null,\"module\":null,\"name\":\"FlexBox1\",\"overrides\":[],\"properties\":[{\"default\":\"flex-start\",\"kind\":null,\"name\":\"align_content\"},{\"default\":\"flex-start\",\"kind\":null,\"name\":\"align_items\"},{\"default\":\"row\",\"kind\":null,\"name\":\"flex_direction\"},{\"default\":\"wrap\",\"kind\":null,\"name\":\"flex_wrap\"},{\"default\":\"flex-start\",\"kind\":null,\"name\":\"justify_content\"}]},{\"extends\":null,\"module\":null,\"name\":\"TemplateActions1\",\"overrides\":[],\"properties\":[{\"default\":0,\"kind\":null,\"name\":\"open_modal\"},{\"default\":0,\"kind\":null,\"name\":\"close_modal\"}]},{\"extends\":null,\"module\":null,\"name\":\"MaterialTemplateActions1\",\"overrides\":[],\"properties\":[{\"default\":0,\"kind\":null,\"name\":\"open_modal\"},{\"default\":0,\"kind\":null,\"name\":\"close_modal\"}]}],\"roots\":{\"references\":[{\"attributes\":{\"children\":[{\"id\":\"1024\"},{\"id\":\"1025\"}],\"css_classes\":[\"panel-widget-box\"],\"margin\":[5,5,5,5],\"name\":\"WidgetBox01588\"},\"id\":\"1023\",\"type\":\"Column\"},{\"attributes\":{\"margin\":[5,10,5,10],\"max_length\":5000,\"title\":\"TextInput LABEL TEXT\"},\"id\":\"1027\",\"type\":\"TextInput\"},{\"attributes\":{\"children\":[{\"id\":\"1023\"},{\"id\":\"1026\"}],\"margin\":[0,0,0,0],\"name\":\"Row01595\"},\"id\":\"1022\",\"type\":\"Row\"},{\"attributes\":{\"end\":1.0,\"margin\":[5,10,5,10],\"start\":0.0,\"step\":0.1,\"title\":\"FloatSlider LABEL TEXT\",\"value\":0.0},\"id\":\"1031\",\"type\":\"Slider\"},{\"attributes\":{\"margin\":[5,10,5,10],\"mode\":\"int\",\"placeholder\":\"0\",\"title\":\"IntInput LABEL TEXT\",\"value\":0,\"value_throttled\":0},\"id\":\"1028\",\"type\":\"Spinner\"},{\"attributes\":{\"end\":10,\"margin\":[5,10,5,10],\"start\":0,\"title\":\"This controls values\",\"value\":5},\"id\":\"1025\",\"type\":\"Slider\"},{\"attributes\":{\"end\":1,\"margin\":[5,10,5,10],\"start\":0,\"title\":\"IntSlider LABEL TEXT\",\"value\":0},\"id\":\"1029\",\"type\":\"Slider\"},{\"attributes\":{\"children\":[{\"id\":\"1027\"},{\"id\":\"1028\"},{\"id\":\"1029\"},{\"id\":\"1030\"},{\"id\":\"1031\"}],\"css_classes\":[\"panel-widget-box\"],\"margin\":[5,5,5,5],\"name\":\"WidgetBox01594\"},\"id\":\"1026\",\"type\":\"Column\"},{\"attributes\":{\"client_comm_id\":\"8fa1cb8e1e1b4894a46c17f136f0377b\",\"comm_id\":\"64e6d8d6d7e444cd84c3fe3b54953a34\",\"plot_id\":\"1022\"},\"id\":\"1032\",\"type\":\"panel.models.comm_manager.CommManager\"},{\"attributes\":{\"end\":1,\"margin\":[5,10,5,10],\"start\":0,\"title\":\"RangeSlider LABEL TEXT\",\"value\":[0,1]},\"id\":\"1030\",\"type\":\"RangeSlider\"},{\"attributes\":{\"margin\":[5,10,5,10],\"max_length\":5000,\"title\":\"This controls labels\",\"value\":\"LABEL TEXT\"},\"id\":\"1024\",\"type\":\"TextInput\"}],\"root_ids\":[\"1022\",\"1032\"]},\"title\":\"Bokeh Application\",\"version\":\"2.4.2\"}};\n",
       "    var render_items = [{\"docid\":\"9156a553-7889-4b1a-812c-db9375b93111\",\"root_ids\":[\"1022\"],\"roots\":{\"1022\":\"f2dacd65-e32f-42e9-a254-62db04d91039\"}}];\n",
       "    root.Bokeh.embed.embed_items_notebook(docs_json, render_items);\n",
       "  }\n",
       "  if (root.Bokeh !== undefined && root.Bokeh.Panel !== undefined && ( root['Plotly'] !== undefined)) {\n",
       "    embed_document(root);\n",
       "  } else {\n",
       "    var attempts = 0;\n",
       "    var timer = setInterval(function(root) {\n",
       "      if (root.Bokeh !== undefined && root.Bokeh.Panel !== undefined && (root['Plotly'] !== undefined)) {\n",
       "        clearInterval(timer);\n",
       "        embed_document(root);\n",
       "      } else if (document.readyState == \"complete\") {\n",
       "        attempts++;\n",
       "        if (attempts > 200) {\n",
       "          clearInterval(timer);\n",
       "          console.log(\"Bokeh: ERROR: Unable to run BokehJS code because BokehJS library is missing\");\n",
       "        }\n",
       "      }\n",
       "    }, 25, root)\n",
       "  }\n",
       "})(window);</script>"
      ],
      "text/plain": [
       "Row\n",
       "    [0] WidgetBox\n",
       "        [0] TextInput(name='This controls labels', value='LABEL TEXT')\n",
       "        [1] IntSlider(end=10, name='This controls values', value=5)\n",
       "    [1] WidgetBox\n",
       "        [0] TextInput()\n",
       "        [1] IntInput()\n",
       "        [2] IntSlider()\n",
       "        [3] RangeSlider(step=1)\n",
       "        [4] FloatSlider()"
      ]
     },
     "execution_count": 7,
     "metadata": {
      "application/vnd.holoviews_exec.v0+json": {
       "id": "1022"
      }
     },
     "output_type": "execute_result"
    }
   ],
   "source": [
    "title_widget = pn.widgets.TextInput(name='This controls labels', value='LABEL TEXT')\n",
    "value_widget = pn.widgets.IntSlider(name='This controls values', start=0, end=10, value=5)\n",
    "\n",
    "meta_widgets = pn.WidgetBox(\n",
    "    title_widget,\n",
    "    value_widget,\n",
    ")\n",
    "\n",
    "widgets = pn.WidgetBox(\n",
    "    pn.widgets.TextInput(),\n",
    "    pn.widgets.Spinner(),\n",
    "    pn.widgets.IntSlider(),\n",
    "    pn.widgets.RangeSlider(),\n",
    "    pn.widgets.FloatSlider(),\n",
    ")\n",
    "\n",
    "def update_titles(event):\n",
    "    for w in widgets:\n",
    "        w.name = '%s %s' % (w.__class__.__name__, event.new)\n",
    "\n",
    "title_widget.param.watch(update_titles, 'value')\n",
    "title_widget.param.trigger('value')\n",
    "\n",
    "def update_values(event):\n",
    "    for w in widgets:\n",
    "        if isinstance(w.value, (int, float)):\n",
    "            w.value = event.new\n",
    "            w.end = event.new\n",
    "\n",
    "value_widget.param.watch(update_values, 'value')\n",
    "\n",
    "pn.Row(meta_widgets, widgets)"
   ]
  },
  {
   "cell_type": "code",
   "execution_count": null,
   "id": "4480d25a",
   "metadata": {},
   "outputs": [],
   "source": []
  },
  {
   "cell_type": "code",
   "execution_count": null,
   "id": "ff849b08",
   "metadata": {},
   "outputs": [],
   "source": []
  },
  {
   "cell_type": "markdown",
   "id": "110208eb",
   "metadata": {},
   "source": [
    "### Dynamic Date picker w/ param.Parameterized\n"
   ]
  },
  {
   "cell_type": "code",
   "execution_count": 15,
   "id": "f5e5429b",
   "metadata": {},
   "outputs": [
    {
     "data": {},
     "metadata": {},
     "output_type": "display_data"
    },
    {
     "data": {
      "application/vnd.holoviews_exec.v0+json": "",
      "text/html": [
       "<div id='1047'>\n",
       "\n",
       "\n",
       "\n",
       "\n",
       "\n",
       "  <div class=\"bk-root\" id=\"efeaa377-27f2-4e68-9283-6579ea3fdbf4\" data-root-id=\"1047\"></div>\n",
       "</div>\n",
       "<script type=\"application/javascript\">(function(root) {\n",
       "  function embed_document(root) {\n",
       "    var docs_json = {\"a2a33065-a7cd-49df-b629-90f0c317a1fc\":{\"defs\":[{\"extends\":null,\"module\":null,\"name\":\"ReactiveHTML1\",\"overrides\":[],\"properties\":[]},{\"extends\":null,\"module\":null,\"name\":\"FlexBox1\",\"overrides\":[],\"properties\":[{\"default\":\"flex-start\",\"kind\":null,\"name\":\"align_content\"},{\"default\":\"flex-start\",\"kind\":null,\"name\":\"align_items\"},{\"default\":\"row\",\"kind\":null,\"name\":\"flex_direction\"},{\"default\":\"wrap\",\"kind\":null,\"name\":\"flex_wrap\"},{\"default\":\"flex-start\",\"kind\":null,\"name\":\"justify_content\"}]},{\"extends\":null,\"module\":null,\"name\":\"TemplateActions1\",\"overrides\":[],\"properties\":[{\"default\":0,\"kind\":null,\"name\":\"open_modal\"},{\"default\":0,\"kind\":null,\"name\":\"close_modal\"}]},{\"extends\":null,\"module\":null,\"name\":\"MaterialTemplateActions1\",\"overrides\":[],\"properties\":[{\"default\":0,\"kind\":null,\"name\":\"open_modal\"},{\"default\":0,\"kind\":null,\"name\":\"close_modal\"}]}],\"roots\":{\"references\":[{\"attributes\":{\"margin\":[5,10,5,10],\"max_date\":\"2017-07-30\",\"min_date\":\"2017-07-28\"},\"id\":\"1047\",\"type\":\"DatePicker\"},{\"attributes\":{\"client_comm_id\":\"cbd520e9f80c414f9f8a53c6d92d698f\",\"comm_id\":\"f157c1a694f643b5987345c329b2b214\",\"plot_id\":\"1047\"},\"id\":\"1048\",\"type\":\"panel.models.comm_manager.CommManager\"}],\"root_ids\":[\"1047\",\"1048\"]},\"title\":\"Bokeh Application\",\"version\":\"2.4.2\"}};\n",
       "    var render_items = [{\"docid\":\"a2a33065-a7cd-49df-b629-90f0c317a1fc\",\"root_ids\":[\"1047\"],\"roots\":{\"1047\":\"efeaa377-27f2-4e68-9283-6579ea3fdbf4\"}}];\n",
       "    root.Bokeh.embed.embed_items_notebook(docs_json, render_items);\n",
       "  }\n",
       "  if (root.Bokeh !== undefined && root.Bokeh.Panel !== undefined && ( root['Plotly'] !== undefined)) {\n",
       "    embed_document(root);\n",
       "  } else {\n",
       "    var attempts = 0;\n",
       "    var timer = setInterval(function(root) {\n",
       "      if (root.Bokeh !== undefined && root.Bokeh.Panel !== undefined && (root['Plotly'] !== undefined)) {\n",
       "        clearInterval(timer);\n",
       "        embed_document(root);\n",
       "      } else if (document.readyState == \"complete\") {\n",
       "        attempts++;\n",
       "        if (attempts > 200) {\n",
       "          clearInterval(timer);\n",
       "          console.log(\"Bokeh: ERROR: Unable to run BokehJS code because BokehJS library is missing\");\n",
       "        }\n",
       "      }\n",
       "    }, 25, root)\n",
       "  }\n",
       "})(window);</script>"
      ],
      "text/plain": [
       "DatePicker(end=datetime.date(2017, ..., start=datetime.date(2017, ...)"
      ]
     },
     "execution_count": 15,
     "metadata": {
      "application/vnd.holoviews_exec.v0+json": {
       "id": "1047"
      }
     },
     "output_type": "execute_result"
    }
   ],
   "source": [
    "min_date, max_date = date(2017,7,28), date(2017,7,30)\n",
    "\n",
    "date_app = pn.widgets.DatePicker(end=max_date, start=min_date)\n",
    "\n"
   ]
  },
  {
   "cell_type": "code",
   "execution_count": 16,
   "id": "16469a52",
   "metadata": {},
   "outputs": [
    {
     "data": {},
     "metadata": {},
     "output_type": "display_data"
    },
    {
     "data": {
      "application/vnd.holoviews_exec.v0+json": "",
      "text/html": [
       "<div id='1049'>\n",
       "\n",
       "\n",
       "\n",
       "\n",
       "\n",
       "  <div class=\"bk-root\" id=\"f1414a52-9933-42e0-9c16-86c9c45d98c6\" data-root-id=\"1049\"></div>\n",
       "</div>\n",
       "<script type=\"application/javascript\">(function(root) {\n",
       "  function embed_document(root) {\n",
       "    var docs_json = {\"d8fd5298-d212-4169-aac9-7fd91e21ef2f\":{\"defs\":[{\"extends\":null,\"module\":null,\"name\":\"ReactiveHTML1\",\"overrides\":[],\"properties\":[]},{\"extends\":null,\"module\":null,\"name\":\"FlexBox1\",\"overrides\":[],\"properties\":[{\"default\":\"flex-start\",\"kind\":null,\"name\":\"align_content\"},{\"default\":\"flex-start\",\"kind\":null,\"name\":\"align_items\"},{\"default\":\"row\",\"kind\":null,\"name\":\"flex_direction\"},{\"default\":\"wrap\",\"kind\":null,\"name\":\"flex_wrap\"},{\"default\":\"flex-start\",\"kind\":null,\"name\":\"justify_content\"}]},{\"extends\":null,\"module\":null,\"name\":\"TemplateActions1\",\"overrides\":[],\"properties\":[{\"default\":0,\"kind\":null,\"name\":\"open_modal\"},{\"default\":0,\"kind\":null,\"name\":\"close_modal\"}]},{\"extends\":null,\"module\":null,\"name\":\"MaterialTemplateActions1\",\"overrides\":[],\"properties\":[{\"default\":0,\"kind\":null,\"name\":\"open_modal\"},{\"default\":0,\"kind\":null,\"name\":\"close_modal\"}]}],\"roots\":{\"references\":[{\"attributes\":{\"children\":[{\"id\":\"1050\"},{\"id\":\"1051\"}],\"margin\":[0,0,0,0],\"name\":\"Column01619\"},\"id\":\"1049\",\"type\":\"Column\"},{\"attributes\":{\"css_classes\":[\"markdown\"],\"margin\":[5,5,5,5],\"name\":\"Markdown01617\",\"text\":\"&lt;h3&gt;App&lt;/h3&gt;\"},\"id\":\"1050\",\"type\":\"panel.models.markup.HTML\"},{\"attributes\":{\"margin\":[5,10,5,10],\"max_date\":\"2017-07-30\",\"min_date\":\"2017-07-28\",\"value\":\"2017-07-30\"},\"id\":\"1051\",\"type\":\"DatePicker\"},{\"attributes\":{\"client_comm_id\":\"fdef05aa61684eeb87ffc3ab055259f7\",\"comm_id\":\"2b48043f05a84666ab329bce47f0dac4\",\"plot_id\":\"1049\"},\"id\":\"1052\",\"type\":\"panel.models.comm_manager.CommManager\"}],\"root_ids\":[\"1049\",\"1052\"]},\"title\":\"Bokeh Application\",\"version\":\"2.4.2\"}};\n",
       "    var render_items = [{\"docid\":\"d8fd5298-d212-4169-aac9-7fd91e21ef2f\",\"root_ids\":[\"1049\"],\"roots\":{\"1049\":\"f1414a52-9933-42e0-9c16-86c9c45d98c6\"}}];\n",
       "    root.Bokeh.embed.embed_items_notebook(docs_json, render_items);\n",
       "  }\n",
       "  if (root.Bokeh !== undefined && root.Bokeh.Panel !== undefined && ( root['Plotly'] !== undefined)) {\n",
       "    embed_document(root);\n",
       "  } else {\n",
       "    var attempts = 0;\n",
       "    var timer = setInterval(function(root) {\n",
       "      if (root.Bokeh !== undefined && root.Bokeh.Panel !== undefined && (root['Plotly'] !== undefined)) {\n",
       "        clearInterval(timer);\n",
       "        embed_document(root);\n",
       "      } else if (document.readyState == \"complete\") {\n",
       "        attempts++;\n",
       "        if (attempts > 200) {\n",
       "          clearInterval(timer);\n",
       "          console.log(\"Bokeh: ERROR: Unable to run BokehJS code because BokehJS library is missing\");\n",
       "        }\n",
       "      }\n",
       "    }, 25, root)\n",
       "  }\n",
       "})(window);</script>"
      ],
      "text/plain": [
       "Column\n",
       "    [0] Markdown(str)\n",
       "    [1] DatePicker(end=datetime.date(2017, ..., start=datetime.date(2017, ..., value=datetime.date(2017, ...)"
      ]
     },
     "execution_count": 16,
     "metadata": {
      "application/vnd.holoviews_exec.v0+json": {
       "id": "1049"
      }
     },
     "output_type": "execute_result"
    },
    {
     "name": "stdout",
     "output_type": "stream",
     "text": [
      "ERROR! Session/line number was not unique in database. History logging moved to new session 213\n"
     ]
    }
   ],
   "source": [
    "def update_value(event):\n",
    "    print(event.new)\n",
    "\n",
    "def update_widget(event):\n",
    "    widget = event.new()\n",
    "    widget.param.watch(update_value, 'value')\n",
    "    widget.param.trigger('value')\n",
    "    \n",
    "app = pn.Column('### App', date_app)\n",
    "\n",
    "# app.param.watch(update_widget, 'value')\n",
    "# app.param.trigger('value')\n",
    "\n",
    "app"
   ]
  },
  {
   "cell_type": "code",
   "execution_count": 8,
   "id": "1f1ffc25",
   "metadata": {},
   "outputs": [
    {
     "data": {},
     "metadata": {},
     "output_type": "display_data"
    },
    {
     "data": {
      "application/vnd.holoviews_exec.v0+json": "",
      "text/html": [
       "<div id='1033'>\n",
       "\n",
       "\n",
       "\n",
       "\n",
       "\n",
       "  <div class=\"bk-root\" id=\"63f0dfae-1fec-48b9-a0b5-7ae6e8275eae\" data-root-id=\"1033\"></div>\n",
       "</div>\n",
       "<script type=\"application/javascript\">(function(root) {\n",
       "  function embed_document(root) {\n",
       "    var docs_json = {\"191550d5-c871-4da4-b920-94b812cea760\":{\"defs\":[{\"extends\":null,\"module\":null,\"name\":\"ReactiveHTML1\",\"overrides\":[],\"properties\":[]},{\"extends\":null,\"module\":null,\"name\":\"FlexBox1\",\"overrides\":[],\"properties\":[{\"default\":\"flex-start\",\"kind\":null,\"name\":\"align_content\"},{\"default\":\"flex-start\",\"kind\":null,\"name\":\"align_items\"},{\"default\":\"row\",\"kind\":null,\"name\":\"flex_direction\"},{\"default\":\"wrap\",\"kind\":null,\"name\":\"flex_wrap\"},{\"default\":\"flex-start\",\"kind\":null,\"name\":\"justify_content\"}]},{\"extends\":null,\"module\":null,\"name\":\"TemplateActions1\",\"overrides\":[],\"properties\":[{\"default\":0,\"kind\":null,\"name\":\"open_modal\"},{\"default\":0,\"kind\":null,\"name\":\"close_modal\"}]},{\"extends\":null,\"module\":null,\"name\":\"MaterialTemplateActions1\",\"overrides\":[],\"properties\":[{\"default\":0,\"kind\":null,\"name\":\"open_modal\"},{\"default\":0,\"kind\":null,\"name\":\"close_modal\"}]}],\"roots\":{\"references\":[{\"attributes\":{\"margin\":[5,5,5,5],\"name\":\"Str01600\",\"text\":\"&lt;pre&gt;Current Value: None&lt;/pre&gt;\"},\"id\":\"1038\",\"type\":\"panel.models.markup.HTML\"},{\"attributes\":{\"css_classes\":[\"panel-widget-box\"],\"margin\":[5,10,5,10],\"options\":[\"<class 'panel.widgets.input.ColorPicker'>\",\"<class 'panel.widgets.input.DatePicker'>\",\"<class 'panel.widgets.input.FileInput'>\",\"<class 'panel.widgets.slider.FloatSlider'>\",\"<class 'panel.widgets.slider.RangeSlider'>\",\"<class 'panel.widgets.input.NumberInput'>\",\"<class 'panel.widgets.input.TextInput'>\"],\"value\":\"<class 'panel.widgets.input.ColorPicker'>\"},\"id\":\"1036\",\"type\":\"Select\"},{\"attributes\":{\"children\":[{\"id\":\"1034\"},{\"id\":\"1035\"}],\"margin\":[0,0,0,0],\"name\":\"Column01606\"},\"id\":\"1033\",\"type\":\"Column\"},{\"attributes\":{\"client_comm_id\":\"2f06d873feba42faa0261fb658b37c42\",\"comm_id\":\"c86ba2cf447245e08762bfe491611bef\",\"plot_id\":\"1033\"},\"id\":\"1039\",\"type\":\"panel.models.comm_manager.CommManager\"},{\"attributes\":{\"children\":[{\"id\":\"1036\"},{\"id\":\"1037\"},{\"id\":\"1038\"}],\"margin\":[0,0,0,0],\"name\":\"Row01602\"},\"id\":\"1035\",\"type\":\"Row\"},{\"attributes\":{\"css_classes\":[\"markdown\"],\"margin\":[5,5,5,5],\"name\":\"Markdown01604\",\"text\":\"&lt;h2&gt;Dynamically generated user interfaces&lt;/h2&gt;\"},\"id\":\"1034\",\"type\":\"panel.models.markup.HTML\"},{\"attributes\":{\"margin\":[5,10,5,10]},\"id\":\"1037\",\"type\":\"ColorPicker\"}],\"root_ids\":[\"1033\",\"1039\"]},\"title\":\"Bokeh Application\",\"version\":\"2.4.2\"}};\n",
       "    var render_items = [{\"docid\":\"191550d5-c871-4da4-b920-94b812cea760\",\"root_ids\":[\"1033\"],\"roots\":{\"1033\":\"63f0dfae-1fec-48b9-a0b5-7ae6e8275eae\"}}];\n",
       "    root.Bokeh.embed.embed_items_notebook(docs_json, render_items);\n",
       "  }\n",
       "  if (root.Bokeh !== undefined && root.Bokeh.Panel !== undefined && ( root['Plotly'] !== undefined)) {\n",
       "    embed_document(root);\n",
       "  } else {\n",
       "    var attempts = 0;\n",
       "    var timer = setInterval(function(root) {\n",
       "      if (root.Bokeh !== undefined && root.Bokeh.Panel !== undefined && (root['Plotly'] !== undefined)) {\n",
       "        clearInterval(timer);\n",
       "        embed_document(root);\n",
       "      } else if (document.readyState == \"complete\") {\n",
       "        attempts++;\n",
       "        if (attempts > 200) {\n",
       "          clearInterval(timer);\n",
       "          console.log(\"Bokeh: ERROR: Unable to run BokehJS code because BokehJS library is missing\");\n",
       "        }\n",
       "      }\n",
       "    }, 25, root)\n",
       "  }\n",
       "})(window);</script>"
      ],
      "text/plain": [
       "Column\n",
       "    [0] Markdown(str)\n",
       "    [1] Row\n",
       "        [0] Select(css_classes=['panel-widget-box'], options=[<class 'panel.widgets.inp...], value=<class 'panel.widgets.inpu...)\n",
       "        [1] ColorPicker()\n",
       "        [2] Str(str)"
      ]
     },
     "execution_count": 8,
     "metadata": {
      "application/vnd.holoviews_exec.v0+json": {
       "id": "1033"
      }
     },
     "output_type": "execute_result"
    }
   ],
   "source": [
    "selector = pn.widgets.Select(\n",
    "    value=pn.widgets.ColorPicker, options=[\n",
    "    pn.widgets.ColorPicker,\n",
    "    pn.widgets.DatePicker,\n",
    "    pn.widgets.FileInput,\n",
    "    pn.widgets.FloatSlider,\n",
    "    pn.widgets.RangeSlider,\n",
    "    pn.widgets.Spinner,\n",
    "    pn.widgets.TextInput,\n",
    "], css_classes=['panel-widget-box'])\n",
    "\n",
    "row = pn.Row(selector, pn.widgets.ColorPicker(), pn.pane.Str())\n",
    "\n",
    "def update_value(event):\n",
    "    row[2].object = 'Current Value: ' + str(event.new)\n",
    "\n",
    "def update_widget(event):\n",
    "    widget = event.new()\n",
    "    widget.param.watch(update_value, 'value')\n",
    "    widget.param.trigger('value')\n",
    "    row[1] = widget\n",
    "\n",
    "selector.param.watch(update_widget, 'value')\n",
    "selector.param.trigger('value')\n",
    "\n",
    "pn.Column(\n",
    "    '## Dynamically generated user interfaces',\n",
    "    row\n",
    ")"
   ]
  },
  {
   "cell_type": "code",
   "execution_count": null,
   "id": "a312491f",
   "metadata": {},
   "outputs": [],
   "source": []
  },
  {
   "cell_type": "code",
   "execution_count": null,
   "id": "59d548e6",
   "metadata": {},
   "outputs": [],
   "source": []
  }
 ],
 "metadata": {
  "kernelspec": {
   "display_name": "Python 3 (ipykernel)",
   "language": "python",
   "name": "python3"
  },
  "language_info": {
   "codemirror_mode": {
    "name": "ipython",
    "version": 3
   },
   "file_extension": ".py",
   "mimetype": "text/x-python",
   "name": "python",
   "nbconvert_exporter": "python",
   "pygments_lexer": "ipython3",
   "version": "3.9.7"
  }
 },
 "nbformat": 4,
 "nbformat_minor": 5
}